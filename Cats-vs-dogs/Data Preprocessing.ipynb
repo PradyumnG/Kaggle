{
 "cells": [
  {
   "cell_type": "code",
   "execution_count": 1,
   "metadata": {},
   "outputs": [],
   "source": [
    "import numpy as np\n",
    "from tqdm import tqdm\n",
    "import os\n",
    "import cv2\n",
    "import pickle"
   ]
  },
  {
   "cell_type": "markdown",
   "metadata": {},
   "source": [
    "Add the absolute paths to the directories containing the training data in DATA_DIR and the test data in TEST_DIR.\n",
    "If the directories in new_dirs are not created, then uncomment the lines.\n",
    "The code below will make 3 sub folders:\n",
    "Train\n",
    "Val \n",
    "Test\n",
    "Train and Val will be further divided into cat and dog.\n",
    "The training data used is 75% of the total data, to change it modify the split_size parameter passed to load_training_data function."
   ]
  },
  {
   "cell_type": "code",
   "execution_count": 2,
   "metadata": {},
   "outputs": [],
   "source": [
    "DATA_DIR = ''\n",
    "TEST_DIR = ''\n",
    "# new_dirs = [\n",
    "#     'tmp',\n",
    "#     'tmp/train',\n",
    "#     'tmp/val',\n",
    "#     'tmp/val/cat',\n",
    "#     'tmp/val/dog',\n",
    "#     'tmp/test',\n",
    "#     'tmp/train/cat',\n",
    "#     'tmp/train/dog'\n",
    "# ]\n",
    "cwd = os.getcwd()"
   ]
  },
  {
   "cell_type": "code",
   "execution_count": 17,
   "metadata": {},
   "outputs": [],
   "source": [
    "IMG_SIZE = 150"
   ]
  },
  {
   "cell_type": "code",
   "execution_count": 18,
   "metadata": {},
   "outputs": [],
   "source": [
    "# for dir_name in new_dirs:\n",
    "#     os.mkdir(os.path.join(cwd,dir_name))"
   ]
  },
  {
   "cell_type": "code",
   "execution_count": 23,
   "metadata": {},
   "outputs": [],
   "source": [
    "train_dir = os.path.join(cwd,'tmp/train')\n",
    "test_dir = os.path.join(cwd,'tmp/test1/test')\n",
    "val_dir = os.path.join(cwd,'tmp/val')"
   ]
  },
  {
   "cell_type": "code",
   "execution_count": 24,
   "metadata": {},
   "outputs": [],
   "source": [
    "def clean_dir(TRAIN,VAL,TEST):\n",
    "    categories = ['cat','dog']\n",
    "    for animal in categories:\n",
    "        for file_name in tqdm(os.listdir(os.path.join(TRAIN,animal))):\n",
    "            file_path = os.path.join(os.path.join(TRAIN,animal),file_name)\n",
    "            os.remove(file_path)\n",
    "    for animal in categories:\n",
    "        for file_name in tqdm(os.listdir(os.path.join(VAL,animal))):\n",
    "            file_path = os.path.join(os.path.join(VAL,animal),file_name)\n",
    "            os.remove(file_path)\n",
    "    for file_name in tqdm(os.listdir(TEST)):\n",
    "        file_path = os.path.join(TEST,file_name)\n",
    "        os.remove(file_path)"
   ]
  },
  {
   "cell_type": "code",
   "execution_count": 25,
   "metadata": {},
   "outputs": [],
   "source": [
    "def load_training_data(SOURCE,DEST,VAL,split_size):\n",
    "    files = os.listdir(SOURCE)\n",
    "    np.random.shuffle(files)\n",
    "    train_len = int(split_size*len(files))\n",
    "    for file_name in tqdm(files[:train_len]):\n",
    "        img_path = os.path.join(SOURCE,file_name)\n",
    "        img = cv2.imread(img_path)\n",
    "        img = cv2.resize(img,(IMG_SIZE,IMG_SIZE))\n",
    "        img_write_path = os.path.join(DEST,str(file_name[:3]))\n",
    "        img_write_path = os.path.join(img_write_path,file_name)\n",
    "        cv2.imwrite(img_write_path,img)\n",
    "    for file_name in tqdm(files[train_len:]):\n",
    "        img_path = os.path.join(SOURCE,file_name)\n",
    "        img = cv2.imread(img_path)\n",
    "        img = cv2.resize(img,(IMG_SIZE,IMG_SIZE))\n",
    "        img_write_path = os.path.join(VAL,file_name[:3])\n",
    "        img_write_path = os.path.join(img_write_path,file_name)\n",
    "        cv2.imwrite(img_write_path,img)"
   ]
  },
  {
   "cell_type": "code",
   "execution_count": 26,
   "metadata": {},
   "outputs": [
    {
     "name": "stderr",
     "output_type": "stream",
     "text": [
      "0it [00:00, ?it/s]\n",
      "0it [00:00, ?it/s]\n",
      "0it [00:00, ?it/s]\n",
      "0it [00:00, ?it/s]\n",
      "100%|██████████████████████████████████████████████████████████████████████████| 12500/12500 [00:07<00:00, 1669.83it/s]\n"
     ]
    },
    {
     "name": "stdout",
     "output_type": "stream",
     "text": [
      "Cleaned all directories\n"
     ]
    },
    {
     "name": "stderr",
     "output_type": "stream",
     "text": [
      "100%|████████████████████████████████████████████████████████████████████████████| 18750/18750 [06:30<00:00, 48.00it/s]\n",
      "100%|██████████████████████████████████████████████████████████████████████████████| 6250/6250 [01:31<00:00, 68.32it/s]\n"
     ]
    }
   ],
   "source": [
    "clean_dir(train_dir,val_dir,test_dir)\n",
    "print(\"Cleaned all directories\")\n",
    "load_training_data(DATA_DIR,train_dir,val_dir,0.75)"
   ]
  },
  {
   "cell_type": "code",
   "execution_count": 27,
   "metadata": {},
   "outputs": [],
   "source": [
    "def load_test_data(SOURCE,DEST):\n",
    "    files = os.listdir(SOURCE)\n",
    "    for file_name in tqdm(files):\n",
    "        img_path = os.path.join(SOURCE,file_name)\n",
    "        img_write_path = os.path.join(DEST,file_name)\n",
    "        img = cv2.imread(img_path)\n",
    "        img = cv2.resize(img,(IMG_SIZE,IMG_SIZE))\n",
    "        cv2.imwrite(img_write_path,img)"
   ]
  },
  {
   "cell_type": "code",
   "execution_count": 28,
   "metadata": {},
   "outputs": [
    {
     "name": "stderr",
     "output_type": "stream",
     "text": [
      "100%|███████████████████████████████████████████████████████████████████████████| 12500/12500 [00:57<00:00, 215.89it/s]\n"
     ]
    }
   ],
   "source": [
    "load_test_data(TEST_DIR,test_dir)"
   ]
  },
  {
   "cell_type": "code",
   "execution_count": null,
   "metadata": {},
   "outputs": [],
   "source": []
  }
 ],
 "metadata": {
  "kernelspec": {
   "display_name": "Python 3",
   "language": "python",
   "name": "python3"
  },
  "language_info": {
   "codemirror_mode": {
    "name": "ipython",
    "version": 3
   },
   "file_extension": ".py",
   "mimetype": "text/x-python",
   "name": "python",
   "nbconvert_exporter": "python",
   "pygments_lexer": "ipython3",
   "version": "3.8.4rc1"
  }
 },
 "nbformat": 4,
 "nbformat_minor": 4
}
